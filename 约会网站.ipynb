{
 "cells": [
  {
   "cell_type": "code",
   "execution_count": 21,
   "metadata": {},
   "outputs": [],
   "source": [
    "import numpy as np\n",
    "path = \"data_set/datingTestSet.txt\""
   ]
  },
  {
   "cell_type": "code",
   "execution_count": 22,
   "metadata": {},
   "outputs": [
    {
     "name": "stdout",
     "output_type": "stream",
     "text": [
      "[[4.0920000e+04 8.3269760e+00 9.5395200e-01]\n",
      " [1.4488000e+04 7.1534690e+00 1.6739040e+00]\n",
      " [2.6052000e+04 1.4418710e+00 8.0512400e-01]\n",
      " ...\n",
      " [2.6575000e+04 1.0650102e+01 8.6662700e-01]\n",
      " [4.8111000e+04 9.1345280e+00 7.2804500e-01]\n",
      " [4.3757000e+04 7.8826010e+00 1.3324460e+00]]\n",
      "['largeDoses' 'smallDoses' 'didntLike' 'didntLike' 'didntLike' 'didntLike'\n",
      " 'largeDoses' 'largeDoses' 'didntLike' 'largeDoses' 'didntLike'\n",
      " 'didntLike' 'smallDoses' 'didntLike' 'didntLike' 'didntLike' 'didntLike'\n",
      " 'didntLike' 'smallDoses' 'largeDoses' 'smallDoses' 'didntLike'\n",
      " 'smallDoses' 'largeDoses' 'smallDoses' 'largeDoses' 'smallDoses'\n",
      " 'largeDoses' 'smallDoses' 'didntLike' 'largeDoses' 'didntLike'\n",
      " 'largeDoses' 'didntLike' 'smallDoses' 'didntLike' 'didntLike'\n",
      " 'smallDoses' 'largeDoses' 'largeDoses' 'didntLike' 'smallDoses'\n",
      " 'largeDoses' 'largeDoses' 'largeDoses' 'didntLike' 'didntLike'\n",
      " 'didntLike' 'didntLike' 'smallDoses' 'smallDoses' 'didntLike'\n",
      " 'largeDoses' 'smallDoses' 'smallDoses' 'smallDoses' 'smallDoses'\n",
      " 'largeDoses' 'didntLike' 'smallDoses' 'didntLike' 'smallDoses'\n",
      " 'smallDoses' 'smallDoses' 'smallDoses' 'smallDoses' 'largeDoses'\n",
      " 'smallDoses' 'largeDoses' 'didntLike' 'smallDoses' 'largeDoses'\n",
      " 'smallDoses' 'smallDoses' 'didntLike' 'largeDoses' 'didntLike'\n",
      " 'didntLike' 'largeDoses' 'largeDoses' 'didntLike' 'smallDoses'\n",
      " 'largeDoses' 'didntLike' 'largeDoses' 'didntLike' 'smallDoses'\n",
      " 'smallDoses' 'didntLike' 'didntLike' 'largeDoses' 'largeDoses'\n",
      " 'didntLike' 'smallDoses' 'didntLike' 'largeDoses' 'largeDoses'\n",
      " 'smallDoses' 'didntLike' 'didntLike' 'largeDoses' 'didntLike'\n",
      " 'smallDoses' 'largeDoses' 'largeDoses' 'smallDoses' 'largeDoses'\n",
      " 'largeDoses' 'didntLike' 'smallDoses' 'largeDoses' 'smallDoses'\n",
      " 'didntLike' 'largeDoses' 'didntLike' 'smallDoses' 'didntLike' 'didntLike'\n",
      " 'smallDoses' 'largeDoses' 'smallDoses' 'largeDoses' 'smallDoses'\n",
      " 'largeDoses' 'smallDoses' 'didntLike' 'largeDoses' 'largeDoses'\n",
      " 'largeDoses' 'didntLike' 'largeDoses' 'smallDoses' 'smallDoses'\n",
      " 'largeDoses' 'didntLike' 'largeDoses' 'largeDoses' 'largeDoses'\n",
      " 'didntLike' 'largeDoses' 'didntLike' 'didntLike' 'largeDoses'\n",
      " 'largeDoses' 'smallDoses' 'largeDoses' 'largeDoses' 'didntLike'\n",
      " 'smallDoses' 'largeDoses' 'smallDoses' 'smallDoses' 'largeDoses'\n",
      " 'largeDoses' 'largeDoses' 'didntLike' 'smallDoses' 'smallDoses'\n",
      " 'didntLike' 'didntLike' 'largeDoses' 'smallDoses' 'largeDoses'\n",
      " 'largeDoses' 'didntLike' 'smallDoses' 'didntLike' 'largeDoses'\n",
      " 'didntLike' 'smallDoses' 'largeDoses' 'smallDoses' 'largeDoses'\n",
      " 'didntLike' 'didntLike' 'didntLike' 'largeDoses' 'smallDoses'\n",
      " 'largeDoses' 'didntLike' 'largeDoses' 'smallDoses' 'didntLike'\n",
      " 'largeDoses' 'smallDoses' 'smallDoses' 'largeDoses' 'smallDoses'\n",
      " 'largeDoses' 'smallDoses' 'didntLike' 'didntLike' 'largeDoses'\n",
      " 'didntLike' 'largeDoses' 'smallDoses' 'smallDoses' 'smallDoses'\n",
      " 'largeDoses' 'smallDoses' 'smallDoses' 'didntLike' 'smallDoses'\n",
      " 'smallDoses' 'largeDoses' 'didntLike' 'largeDoses' 'largeDoses'\n",
      " 'smallDoses' 'didntLike' 'didntLike' 'didntLike' 'smallDoses' 'didntLike'\n",
      " 'largeDoses' 'largeDoses' 'largeDoses' 'largeDoses' 'smallDoses'\n",
      " 'didntLike' 'didntLike' 'didntLike' 'smallDoses' 'largeDoses'\n",
      " 'smallDoses' 'didntLike' 'largeDoses' 'didntLike' 'largeDoses'\n",
      " 'smallDoses' 'smallDoses' 'largeDoses' 'didntLike' 'largeDoses'\n",
      " 'didntLike' 'didntLike' 'smallDoses' 'didntLike' 'smallDoses'\n",
      " 'smallDoses' 'didntLike' 'largeDoses' 'didntLike' 'largeDoses'\n",
      " 'smallDoses' 'largeDoses' 'didntLike' 'smallDoses' 'largeDoses'\n",
      " 'didntLike' 'didntLike' 'didntLike' 'didntLike' 'smallDoses' 'largeDoses'\n",
      " 'smallDoses' 'smallDoses' 'largeDoses' 'didntLike' 'smallDoses'\n",
      " 'didntLike' 'didntLike' 'didntLike' 'largeDoses' 'largeDoses'\n",
      " 'smallDoses' 'didntLike' 'didntLike' 'didntLike' 'smallDoses'\n",
      " 'smallDoses' 'largeDoses' 'didntLike' 'didntLike' 'didntLike'\n",
      " 'smallDoses' 'didntLike' 'didntLike' 'smallDoses' 'didntLike' 'didntLike'\n",
      " 'didntLike' 'smallDoses' 'smallDoses' 'largeDoses' 'smallDoses'\n",
      " 'largeDoses' 'largeDoses' 'largeDoses' 'largeDoses' 'didntLike'\n",
      " 'smallDoses' 'largeDoses' 'didntLike' 'didntLike' 'didntLike'\n",
      " 'largeDoses' 'didntLike' 'largeDoses' 'smallDoses' 'smallDoses'\n",
      " 'didntLike' 'largeDoses' 'didntLike' 'largeDoses' 'smallDoses'\n",
      " 'smallDoses' 'didntLike' 'smallDoses' 'smallDoses' 'largeDoses'\n",
      " 'didntLike' 'largeDoses' 'smallDoses' 'didntLike' 'didntLike'\n",
      " 'largeDoses' 'largeDoses' 'smallDoses' 'largeDoses' 'largeDoses'\n",
      " 'smallDoses' 'largeDoses' 'didntLike' 'largeDoses' 'didntLike'\n",
      " 'largeDoses' 'largeDoses' 'didntLike' 'largeDoses' 'smallDoses'\n",
      " 'didntLike' 'largeDoses' 'didntLike' 'largeDoses' 'smallDoses'\n",
      " 'didntLike' 'smallDoses' 'smallDoses' 'didntLike' 'largeDoses'\n",
      " 'didntLike' 'didntLike' 'largeDoses' 'largeDoses' 'smallDoses'\n",
      " 'smallDoses' 'largeDoses' 'didntLike' 'smallDoses' 'largeDoses'\n",
      " 'largeDoses' 'smallDoses' 'smallDoses' 'didntLike' 'didntLike'\n",
      " 'didntLike' 'didntLike' 'largeDoses' 'smallDoses' 'didntLike' 'didntLike'\n",
      " 'largeDoses' 'smallDoses' 'didntLike' 'didntLike' 'largeDoses'\n",
      " 'largeDoses' 'largeDoses' 'smallDoses' 'largeDoses' 'smallDoses'\n",
      " 'didntLike' 'didntLike' 'didntLike' 'didntLike' 'didntLike' 'largeDoses'\n",
      " 'smallDoses' 'smallDoses' 'didntLike' 'smallDoses' 'didntLike'\n",
      " 'largeDoses' 'smallDoses' 'didntLike' 'largeDoses' 'smallDoses'\n",
      " 'didntLike' 'largeDoses' 'didntLike' 'didntLike' 'largeDoses'\n",
      " 'largeDoses' 'largeDoses' 'largeDoses' 'smallDoses' 'didntLike'\n",
      " 'didntLike' 'smallDoses' 'didntLike' 'largeDoses' 'largeDoses'\n",
      " 'smallDoses' 'didntLike' 'smallDoses' 'largeDoses' 'smallDoses'\n",
      " 'didntLike' 'smallDoses' 'smallDoses' 'smallDoses' 'didntLike'\n",
      " 'didntLike' 'largeDoses' 'didntLike' 'didntLike' 'smallDoses'\n",
      " 'largeDoses' 'didntLike' 'didntLike' 'smallDoses' 'largeDoses'\n",
      " 'didntLike' 'largeDoses' 'didntLike' 'didntLike' 'smallDoses'\n",
      " 'smallDoses' 'didntLike' 'smallDoses' 'smallDoses' 'smallDoses'\n",
      " 'largeDoses' 'didntLike' 'didntLike' 'didntLike' 'largeDoses' 'didntLike'\n",
      " 'largeDoses' 'didntLike' 'largeDoses' 'largeDoses' 'didntLike'\n",
      " 'didntLike' 'didntLike' 'largeDoses' 'smallDoses' 'largeDoses'\n",
      " 'largeDoses' 'smallDoses' 'smallDoses' 'didntLike' 'didntLike'\n",
      " 'didntLike' 'smallDoses' 'didntLike' 'smallDoses' 'smallDoses'\n",
      " 'largeDoses' 'largeDoses' 'largeDoses' 'didntLike' 'didntLike'\n",
      " 'largeDoses' 'largeDoses' 'smallDoses' 'largeDoses' 'largeDoses'\n",
      " 'smallDoses' 'largeDoses' 'largeDoses' 'largeDoses' 'smallDoses'\n",
      " 'largeDoses' 'largeDoses' 'didntLike' 'smallDoses' 'largeDoses'\n",
      " 'smallDoses' 'didntLike' 'didntLike' 'didntLike' 'didntLike' 'largeDoses'\n",
      " 'largeDoses' 'largeDoses' 'largeDoses' 'smallDoses' 'didntLike'\n",
      " 'didntLike' 'didntLike' 'didntLike' 'largeDoses' 'didntLike' 'didntLike'\n",
      " 'smallDoses' 'didntLike' 'didntLike' 'smallDoses' 'largeDoses'\n",
      " 'smallDoses' 'didntLike' 'smallDoses' 'smallDoses' 'smallDoses'\n",
      " 'largeDoses' 'smallDoses' 'didntLike' 'largeDoses' 'smallDoses'\n",
      " 'largeDoses' 'smallDoses' 'largeDoses' 'smallDoses' 'didntLike'\n",
      " 'didntLike' 'smallDoses' 'largeDoses' 'didntLike' 'largeDoses'\n",
      " 'largeDoses' 'largeDoses' 'didntLike' 'smallDoses' 'didntLike'\n",
      " 'smallDoses' 'smallDoses' 'didntLike' 'smallDoses' 'smallDoses'\n",
      " 'smallDoses' 'smallDoses' 'smallDoses' 'largeDoses' 'smallDoses'\n",
      " 'didntLike' 'largeDoses' 'largeDoses' 'smallDoses' 'smallDoses'\n",
      " 'smallDoses' 'largeDoses' 'didntLike' 'smallDoses' 'didntLike'\n",
      " 'didntLike' 'largeDoses' 'smallDoses' 'largeDoses' 'smallDoses'\n",
      " 'largeDoses' 'smallDoses' 'largeDoses' 'largeDoses' 'smallDoses'\n",
      " 'smallDoses' 'didntLike' 'largeDoses' 'didntLike' 'smallDoses'\n",
      " 'didntLike' 'largeDoses' 'didntLike' 'didntLike' 'didntLike' 'largeDoses'\n",
      " 'didntLike' 'didntLike' 'largeDoses' 'largeDoses' 'smallDoses'\n",
      " 'smallDoses' 'didntLike' 'largeDoses' 'didntLike' 'didntLike'\n",
      " 'largeDoses' 'smallDoses' 'largeDoses' 'didntLike' 'didntLike'\n",
      " 'largeDoses' 'didntLike' 'largeDoses' 'largeDoses' 'didntLike'\n",
      " 'smallDoses' 'largeDoses' 'didntLike' 'largeDoses' 'didntLike'\n",
      " 'didntLike' 'smallDoses' 'didntLike' 'largeDoses' 'didntLike' 'didntLike'\n",
      " 'didntLike' 'didntLike' 'smallDoses' 'didntLike' 'largeDoses' 'didntLike'\n",
      " 'smallDoses' 'didntLike' 'largeDoses' 'didntLike' 'largeDoses'\n",
      " 'didntLike' 'didntLike' 'smallDoses' 'smallDoses' 'smallDoses'\n",
      " 'largeDoses' 'smallDoses' 'smallDoses' 'didntLike' 'smallDoses'\n",
      " 'largeDoses' 'largeDoses' 'smallDoses' 'largeDoses' 'largeDoses'\n",
      " 'largeDoses' 'smallDoses' 'largeDoses' 'largeDoses' 'didntLike'\n",
      " 'largeDoses' 'smallDoses' 'largeDoses' 'smallDoses' 'didntLike'\n",
      " 'smallDoses' 'didntLike' 'didntLike' 'didntLike' 'smallDoses'\n",
      " 'largeDoses' 'smallDoses' 'smallDoses' 'didntLike' 'smallDoses'\n",
      " 'smallDoses' 'didntLike' 'largeDoses' 'didntLike' 'largeDoses'\n",
      " 'largeDoses' 'largeDoses' 'smallDoses' 'smallDoses' 'largeDoses'\n",
      " 'largeDoses' 'didntLike' 'smallDoses' 'smallDoses' 'smallDoses'\n",
      " 'largeDoses' 'didntLike' 'smallDoses' 'didntLike' 'largeDoses'\n",
      " 'didntLike' 'smallDoses' 'largeDoses' 'didntLike' 'didntLike' 'didntLike'\n",
      " 'smallDoses' 'smallDoses' 'largeDoses' 'didntLike' 'largeDoses'\n",
      " 'didntLike' 'didntLike' 'largeDoses' 'didntLike' 'smallDoses'\n",
      " 'largeDoses' 'didntLike' 'smallDoses' 'largeDoses' 'didntLike'\n",
      " 'smallDoses' 'largeDoses' 'smallDoses' 'smallDoses' 'smallDoses'\n",
      " 'largeDoses' 'didntLike' 'largeDoses' 'didntLike' 'smallDoses'\n",
      " 'largeDoses' 'smallDoses' 'smallDoses' 'largeDoses' 'didntLike'\n",
      " 'smallDoses' 'largeDoses' 'smallDoses' 'largeDoses' 'didntLike'\n",
      " 'smallDoses' 'smallDoses' 'largeDoses' 'didntLike' 'didntLike'\n",
      " 'didntLike' 'smallDoses' 'smallDoses' 'didntLike' 'didntLike'\n",
      " 'smallDoses' 'didntLike' 'smallDoses' 'didntLike' 'smallDoses'\n",
      " 'largeDoses' 'smallDoses' 'didntLike' 'largeDoses' 'largeDoses'\n",
      " 'largeDoses' 'didntLike' 'didntLike' 'largeDoses' 'didntLike'\n",
      " 'smallDoses' 'largeDoses' 'largeDoses' 'smallDoses' 'smallDoses'\n",
      " 'smallDoses' 'didntLike' 'smallDoses' 'largeDoses' 'smallDoses'\n",
      " 'smallDoses' 'largeDoses' 'smallDoses' 'smallDoses' 'smallDoses'\n",
      " 'largeDoses' 'largeDoses' 'smallDoses' 'didntLike' 'largeDoses'\n",
      " 'smallDoses' 'didntLike' 'largeDoses' 'largeDoses' 'didntLike'\n",
      " 'smallDoses' 'largeDoses' 'smallDoses' 'didntLike' 'largeDoses'\n",
      " 'largeDoses' 'largeDoses' 'didntLike' 'smallDoses' 'smallDoses'\n",
      " 'smallDoses' 'largeDoses' 'smallDoses' 'largeDoses' 'largeDoses'\n",
      " 'didntLike' 'smallDoses' 'didntLike' 'didntLike' 'smallDoses' 'didntLike'\n",
      " 'largeDoses' 'didntLike' 'smallDoses' 'smallDoses' 'didntLike'\n",
      " 'largeDoses' 'smallDoses' 'didntLike' 'largeDoses' 'largeDoses'\n",
      " 'smallDoses' 'smallDoses' 'smallDoses' 'didntLike' 'smallDoses'\n",
      " 'smallDoses' 'didntLike' 'largeDoses' 'didntLike' 'largeDoses'\n",
      " 'didntLike' 'largeDoses' 'largeDoses' 'didntLike' 'didntLike'\n",
      " 'smallDoses' 'largeDoses' 'smallDoses' 'smallDoses' 'largeDoses'\n",
      " 'didntLike' 'didntLike' 'didntLike' 'didntLike' 'largeDoses' 'smallDoses'\n",
      " 'smallDoses' 'didntLike' 'largeDoses' 'didntLike' 'smallDoses'\n",
      " 'largeDoses' 'didntLike' 'largeDoses' 'didntLike' 'largeDoses'\n",
      " 'didntLike' 'didntLike' 'largeDoses' 'smallDoses' 'largeDoses'\n",
      " 'didntLike' 'didntLike' 'largeDoses' 'largeDoses' 'largeDoses'\n",
      " 'largeDoses' 'didntLike' 'largeDoses' 'smallDoses' 'smallDoses'\n",
      " 'didntLike' 'didntLike' 'largeDoses' 'largeDoses' 'smallDoses'\n",
      " 'smallDoses' 'smallDoses' 'didntLike' 'smallDoses' 'didntLike'\n",
      " 'smallDoses' 'didntLike' 'largeDoses' 'smallDoses' 'didntLike'\n",
      " 'smallDoses' 'smallDoses' 'largeDoses' 'didntLike' 'smallDoses'\n",
      " 'smallDoses' 'smallDoses' 'largeDoses' 'smallDoses' 'didntLike'\n",
      " 'smallDoses' 'didntLike' 'smallDoses' 'largeDoses' 'largeDoses'\n",
      " 'smallDoses' 'largeDoses' 'didntLike' 'didntLike' 'largeDoses'\n",
      " 'largeDoses' 'didntLike' 'smallDoses' 'smallDoses' 'smallDoses'\n",
      " 'smallDoses' 'smallDoses' 'smallDoses' 'didntLike' 'largeDoses'\n",
      " 'largeDoses' 'largeDoses' 'largeDoses' 'largeDoses' 'didntLike'\n",
      " 'didntLike' 'largeDoses' 'smallDoses' 'didntLike' 'smallDoses'\n",
      " 'didntLike' 'smallDoses' 'smallDoses' 'largeDoses' 'smallDoses'\n",
      " 'smallDoses' 'smallDoses' 'largeDoses' 'didntLike' 'smallDoses'\n",
      " 'didntLike' 'smallDoses' 'smallDoses' 'didntLike' 'didntLike'\n",
      " 'smallDoses' 'largeDoses' 'largeDoses' 'didntLike' 'didntLike'\n",
      " 'didntLike' 'didntLike' 'largeDoses' 'largeDoses' 'largeDoses'\n",
      " 'largeDoses' 'largeDoses' 'largeDoses' 'didntLike' 'largeDoses'\n",
      " 'largeDoses' 'smallDoses' 'largeDoses' 'smallDoses' 'largeDoses'\n",
      " 'largeDoses' 'smallDoses' 'smallDoses' 'didntLike' 'didntLike'\n",
      " 'didntLike' 'largeDoses' 'largeDoses' 'didntLike' 'didntLike' 'didntLike'\n",
      " 'largeDoses' 'largeDoses' 'smallDoses' 'didntLike' 'smallDoses'\n",
      " 'didntLike' 'didntLike' 'smallDoses' 'smallDoses' 'didntLike' 'didntLike'\n",
      " 'didntLike' 'largeDoses' 'didntLike' 'didntLike' 'smallDoses'\n",
      " 'largeDoses' 'smallDoses' 'smallDoses' 'didntLike' 'largeDoses'\n",
      " 'didntLike' 'smallDoses' 'largeDoses' 'didntLike' 'smallDoses'\n",
      " 'smallDoses' 'smallDoses' 'smallDoses' 'largeDoses' 'smallDoses'\n",
      " 'largeDoses' 'largeDoses' 'didntLike' 'smallDoses' 'didntLike'\n",
      " 'smallDoses' 'largeDoses' 'didntLike' 'largeDoses' 'smallDoses'\n",
      " 'smallDoses' 'smallDoses' 'smallDoses' 'smallDoses' 'smallDoses'\n",
      " 'smallDoses' 'smallDoses' 'smallDoses' 'smallDoses' 'smallDoses'\n",
      " 'smallDoses' 'largeDoses' 'smallDoses' 'smallDoses' 'smallDoses'\n",
      " 'smallDoses' 'smallDoses' 'didntLike' 'largeDoses' 'largeDoses'\n",
      " 'largeDoses']\n"
     ]
    }
   ],
   "source": [
    "data = [ ]\n",
    "labels =[ ]\n",
    "open_file = open(path,mode='r',encoding='GBK')\n",
    "STR = open_file.read()\n",
    "lines = STR.split('\\n')\n",
    "for line in lines[:-1]:\n",
    "    f_l = line.split('\\t')\n",
    "    x1,x2,x3,label = float(f_l[0]),float(f_l[1]),float(f_l[2]),f_l[3]\n",
    "    data.append([x1,x2,x3]) \n",
    "    labels.append(label)\n",
    "    \n",
    "data = np.array(data)\n",
    "labels = np.array(labels)\n",
    "print(data)\n",
    "print(labels)"
   ]
  },
  {
   "cell_type": "code",
   "execution_count": 23,
   "metadata": {},
   "outputs": [],
   "source": [
    "max_ = np.max(data,axis=0)\n",
    "min_ = np.min(data,axis=0)"
   ]
  },
  {
   "cell_type": "code",
   "execution_count": 24,
   "metadata": {},
   "outputs": [
    {
     "name": "stdout",
     "output_type": "stream",
     "text": [
      "[9.1273000e+04 2.0919349e+01 1.6955170e+00]\n",
      "[0.       0.       0.001156]\n"
     ]
    }
   ],
   "source": [
    "print(max_)\n",
    "print(min_)"
   ]
  },
  {
   "cell_type": "code",
   "execution_count": 25,
   "metadata": {},
   "outputs": [],
   "source": [
    "new_data = (data - min_) / (max_ - min_)"
   ]
  },
  {
   "cell_type": "code",
   "execution_count": 26,
   "metadata": {},
   "outputs": [
    {
     "data": {
      "text/plain": [
       "array([[0.44832535, 0.39805139, 0.56233353],\n",
       "       [0.15873259, 0.34195467, 0.98724416],\n",
       "       [0.28542943, 0.06892523, 0.47449629],\n",
       "       ...,\n",
       "       [0.29115949, 0.50910294, 0.51079493],\n",
       "       [0.52711097, 0.43665451, 0.4290048 ],\n",
       "       [0.47940793, 0.3768091 , 0.78571804]])"
      ]
     },
     "execution_count": 26,
     "metadata": {},
     "output_type": "execute_result"
    }
   ],
   "source": [
    "new_data"
   ]
  },
  {
   "cell_type": "code",
   "execution_count": 27,
   "metadata": {},
   "outputs": [],
   "source": [
    "from sklearn.model_selection import train_test_split"
   ]
  },
  {
   "cell_type": "code",
   "execution_count": 28,
   "metadata": {},
   "outputs": [],
   "source": [
    "x_train,x_test,y_train,y_test = train_test_split(new_data,labels,test_size=0.3,random_state=42)"
   ]
  },
  {
   "cell_type": "code",
   "execution_count": 1,
   "metadata": {},
   "outputs": [
    {
     "ename": "NameError",
     "evalue": "name 'np' is not defined",
     "output_type": "error",
     "traceback": [
      "\u001b[1;31m---------------------------------------------------------------------------\u001b[0m",
      "\u001b[1;31mNameError\u001b[0m                                 Traceback (most recent call last)",
      "\u001b[1;32m<ipython-input-1-898fe572208d>\u001b[0m in \u001b[0;36m<module>\u001b[1;34m\u001b[0m\n\u001b[0;32m     12\u001b[0m         \u001b[0mpredict_labels\u001b[0m\u001b[1;33m.\u001b[0m\u001b[0mappend\u001b[0m\u001b[1;33m(\u001b[0m\u001b[0mpredict\u001b[0m\u001b[1;33m)\u001b[0m\u001b[1;33m\u001b[0m\u001b[1;33m\u001b[0m\u001b[0m\n\u001b[0;32m     13\u001b[0m \u001b[1;33m\u001b[0m\u001b[0m\n\u001b[1;32m---> 14\u001b[1;33m \u001b[0mPREDICT\u001b[0m \u001b[1;33m=\u001b[0m \u001b[0mnp\u001b[0m\u001b[1;33m.\u001b[0m\u001b[0marray\u001b[0m\u001b[1;33m(\u001b[0m\u001b[0mpredict_labels\u001b[0m\u001b[1;33m)\u001b[0m\u001b[1;33m\u001b[0m\u001b[1;33m\u001b[0m\u001b[0m\n\u001b[0m\u001b[0;32m     15\u001b[0m \u001b[1;33m\u001b[0m\u001b[0m\n\u001b[0;32m     16\u001b[0m \u001b[0macc\u001b[0m \u001b[1;33m=\u001b[0m \u001b[0mnp\u001b[0m\u001b[1;33m.\u001b[0m\u001b[0msum\u001b[0m\u001b[1;33m(\u001b[0m\u001b[0mnp\u001b[0m\u001b[1;33m.\u001b[0m\u001b[0mequal\u001b[0m\u001b[1;33m(\u001b[0m\u001b[0mPREDICT\u001b[0m\u001b[1;33m,\u001b[0m\u001b[0my_test\u001b[0m\u001b[1;33m[\u001b[0m\u001b[1;33m:\u001b[0m\u001b[1;36m10\u001b[0m\u001b[1;33m]\u001b[0m\u001b[1;33m)\u001b[0m\u001b[1;33m)\u001b[0m \u001b[1;33m/\u001b[0m \u001b[0mPREDICT\u001b[0m\u001b[1;33m.\u001b[0m\u001b[0msize\u001b[0m\u001b[1;33m\u001b[0m\u001b[1;33m\u001b[0m\u001b[0m\n",
      "\u001b[1;31mNameError\u001b[0m: name 'np' is not defined"
     ]
    }
   ],
   "source": [
    "def KNN_Model(train_data,y_train,test_data,y_test,K):\n",
    "    predict_labels = []\n",
    "    for test in test_data[0:5,...]:\n",
    "        distance = train_data -test\n",
    "        square = np.power(distance,2)\n",
    "        sum_ = np.sum(square,axis = 1)\n",
    "        sqrt = np.sqrt(sum_)\n",
    "        argsort = np.argsort(distance)[:K]\n",
    "        labels = y_train[argsort]\n",
    "        bin_labels = np.bincount(labels)\n",
    "        predict = np.argmax(bin_labels)\n",
    "        predict_labels.append(predict)\n",
    "        \n",
    "PREDICT = np.array(predict_labels)\n",
    "\n",
    "acc = np.sum(np.equal(PREDICT,y_test[:10])) / PREDICT.size\n",
    "print('The test accuracy is :{} %'.format(acc * 100))"
   ]
  },
  {
   "cell_type": "code",
   "execution_count": 2,
   "metadata": {},
   "outputs": [
    {
     "ename": "NameError",
     "evalue": "name 'x_train' is not defined",
     "output_type": "error",
     "traceback": [
      "\u001b[1;31m---------------------------------------------------------------------------\u001b[0m",
      "\u001b[1;31mNameError\u001b[0m                                 Traceback (most recent call last)",
      "\u001b[1;32m<ipython-input-2-5326878ac2a0>\u001b[0m in \u001b[0;36m<module>\u001b[1;34m\u001b[0m\n\u001b[1;32m----> 1\u001b[1;33m \u001b[0mx_train\u001b[0m\u001b[1;33m,\u001b[0m\u001b[0mshape\u001b[0m\u001b[1;33m\u001b[0m\u001b[1;33m\u001b[0m\u001b[0m\n\u001b[0m",
      "\u001b[1;31mNameError\u001b[0m: name 'x_train' is not defined"
     ]
    }
   ],
   "source": [
    "x_train,shape"
   ]
  },
  {
   "cell_type": "code",
   "execution_count": null,
   "metadata": {},
   "outputs": [],
   "source": []
  }
 ],
 "metadata": {
  "kernelspec": {
   "display_name": "Python 3",
   "language": "python",
   "name": "python3"
  },
  "language_info": {
   "codemirror_mode": {
    "name": "ipython",
    "version": 3
   },
   "file_extension": ".py",
   "mimetype": "text/x-python",
   "name": "python",
   "nbconvert_exporter": "python",
   "pygments_lexer": "ipython3",
   "version": "3.7.3"
  }
 },
 "nbformat": 4,
 "nbformat_minor": 2
}
